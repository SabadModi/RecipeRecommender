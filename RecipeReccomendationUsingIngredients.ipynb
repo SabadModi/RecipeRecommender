{
  "nbformat": 4,
  "nbformat_minor": 0,
  "metadata": {
    "colab": {
      "name": "RecipeReccomendationUsingIngredients.ipynb",
      "provenance": [],
      "collapsed_sections": [],
      "authorship_tag": "ABX9TyPprVg473fW7+HksgJ5Spwq",
      "include_colab_link": true
    },
    "kernelspec": {
      "name": "python3",
      "display_name": "Python 3"
    },
    "language_info": {
      "name": "python"
    }
  },
  "cells": [
    {
      "cell_type": "markdown",
      "metadata": {
        "id": "view-in-github",
        "colab_type": "text"
      },
      "source": [
        "<a href=\"https://colab.research.google.com/github/SabadModi/RecipeRecommender/blob/main/RecipeReccomendationUsingIngredients.ipynb\" target=\"_parent\"><img src=\"https://colab.research.google.com/assets/colab-badge.svg\" alt=\"Open In Colab\"/></a>"
      ]
    },
    {
      "cell_type": "markdown",
      "source": [
        "# Import Dataset"
      ],
      "metadata": {
        "id": "CaLiFM6egH1Q"
      }
    },
    {
      "cell_type": "code",
      "source": [
        "!pip install kaggle\n",
        "!pip install gensim==4.1.2"
      ],
      "metadata": {
        "colab": {
          "base_uri": "https://localhost:8080/"
        },
        "id": "982ZzaPUcbXf",
        "outputId": "0158e894-034a-46ce-dd46-41e98a8d5897"
      },
      "execution_count": null,
      "outputs": [
        {
          "output_type": "stream",
          "name": "stdout",
          "text": [
            "Requirement already satisfied: kaggle in /usr/local/lib/python3.7/dist-packages (1.5.12)\n",
            "Requirement already satisfied: requests in /usr/local/lib/python3.7/dist-packages (from kaggle) (2.23.0)\n",
            "Requirement already satisfied: tqdm in /usr/local/lib/python3.7/dist-packages (from kaggle) (4.62.3)\n",
            "Requirement already satisfied: python-dateutil in /usr/local/lib/python3.7/dist-packages (from kaggle) (2.8.2)\n",
            "Requirement already satisfied: certifi in /usr/local/lib/python3.7/dist-packages (from kaggle) (2021.10.8)\n",
            "Requirement already satisfied: python-slugify in /usr/local/lib/python3.7/dist-packages (from kaggle) (5.0.2)\n",
            "Requirement already satisfied: urllib3 in /usr/local/lib/python3.7/dist-packages (from kaggle) (1.24.3)\n",
            "Requirement already satisfied: six>=1.10 in /usr/local/lib/python3.7/dist-packages (from kaggle) (1.15.0)\n",
            "Requirement already satisfied: text-unidecode>=1.3 in /usr/local/lib/python3.7/dist-packages (from python-slugify->kaggle) (1.3)\n",
            "Requirement already satisfied: idna<3,>=2.5 in /usr/local/lib/python3.7/dist-packages (from requests->kaggle) (2.10)\n",
            "Requirement already satisfied: chardet<4,>=3.0.2 in /usr/local/lib/python3.7/dist-packages (from requests->kaggle) (3.0.4)\n",
            "Collecting gensim==4.1.2\n",
            "  Downloading gensim-4.1.2-cp37-cp37m-manylinux_2_12_x86_64.manylinux2010_x86_64.whl (24.1 MB)\n",
            "\u001b[K     |████████████████████████████████| 24.1 MB 84.8 MB/s \n",
            "\u001b[?25hRequirement already satisfied: scipy>=0.18.1 in /usr/local/lib/python3.7/dist-packages (from gensim==4.1.2) (1.4.1)\n",
            "Requirement already satisfied: smart-open>=1.8.1 in /usr/local/lib/python3.7/dist-packages (from gensim==4.1.2) (5.2.1)\n",
            "Requirement already satisfied: numpy>=1.17.0 in /usr/local/lib/python3.7/dist-packages (from gensim==4.1.2) (1.19.5)\n",
            "Installing collected packages: gensim\n",
            "  Attempting uninstall: gensim\n",
            "    Found existing installation: gensim 3.6.0\n",
            "    Uninstalling gensim-3.6.0:\n",
            "      Successfully uninstalled gensim-3.6.0\n",
            "Successfully installed gensim-4.1.2\n"
          ]
        }
      ]
    },
    {
      "cell_type": "code",
      "source": [
        "!mkdir ~/.kaggle\n",
        "!mkdir dataset"
      ],
      "metadata": {
        "id": "E2gvfIS2K0RS"
      },
      "execution_count": null,
      "outputs": []
    },
    {
      "cell_type": "code",
      "source": [
        "# Upload your Kaggle API JSON file\n",
        "from google.colab import files\n",
        "\n",
        "files.upload()"
      ],
      "metadata": {
        "id": "3443JBccMv8O"
      },
      "execution_count": null,
      "outputs": []
    },
    {
      "cell_type": "code",
      "source": [
        "! cp kaggle.json ~/.kaggle/"
      ],
      "metadata": {
        "id": "IDPBIOVRL-yW"
      },
      "execution_count": null,
      "outputs": []
    },
    {
      "cell_type": "code",
      "source": [
        "! chmod 600 ~/.kaggle/kaggle.json"
      ],
      "metadata": {
        "id": "qOvnUFD5NdRL"
      },
      "execution_count": null,
      "outputs": []
    },
    {
      "cell_type": "code",
      "source": [
        "!kaggle datasets download -d shuyangli94/food-com-recipes-and-user-interactions"
      ],
      "metadata": {
        "colab": {
          "base_uri": "https://localhost:8080/"
        },
        "id": "RM40RquDON_y",
        "outputId": "13edd73c-82f9-4b71-9d97-55e51a1e60a1"
      },
      "execution_count": null,
      "outputs": [
        {
          "output_type": "stream",
          "name": "stdout",
          "text": [
            "Downloading food-com-recipes-and-user-interactions.zip to /content\n",
            " 96% 257M/267M [00:02<00:00, 129MB/s]\n",
            "100% 267M/267M [00:02<00:00, 116MB/s]\n"
          ]
        }
      ]
    },
    {
      "cell_type": "code",
      "source": [
        "!unzip food-com-recipes-and-user-interactions.zip -d dataset/"
      ],
      "metadata": {
        "colab": {
          "base_uri": "https://localhost:8080/"
        },
        "id": "i2Rq2pbL5iC4",
        "outputId": "a463819c-40c5-46d3-86d1-43a78c7d6168"
      },
      "execution_count": null,
      "outputs": [
        {
          "output_type": "stream",
          "name": "stdout",
          "text": [
            "Archive:  food-com-recipes-and-user-interactions.zip\n",
            "replace dataset/PP_recipes.csv? [y]es, [n]o, [A]ll, [N]one, [r]ename: n\n",
            "replace dataset/PP_users.csv? [y]es, [n]o, [A]ll, [N]one, [r]ename: n\n",
            "replace dataset/RAW_interactions.csv? [y]es, [n]o, [A]ll, [N]one, [r]ename: n\n",
            "replace dataset/RAW_recipes.csv? [y]es, [n]o, [A]ll, [N]one, [r]ename: y\n",
            "  inflating: dataset/RAW_recipes.csv  \n",
            "replace dataset/ingr_map.pkl? [y]es, [n]o, [A]ll, [N]one, [r]ename: n\n",
            "replace dataset/interactions_test.csv? [y]es, [n]o, [A]ll, [N]one, [r]ename: n\n",
            "replace dataset/interactions_train.csv? [y]es, [n]o, [A]ll, [N]one, [r]ename: n\n",
            "replace dataset/interactions_validation.csv? [y]es, [n]o, [A]ll, [N]one, [r]ename: n\n"
          ]
        }
      ]
    },
    {
      "cell_type": "markdown",
      "source": [
        "# Preparing the data"
      ],
      "metadata": {
        "id": "YQydna15gMzP"
      }
    },
    {
      "cell_type": "code",
      "source": [
        "import pandas as pd\n",
        "df_recipes = pd.read_csv(\"dataset/RAW_recipes.csv\")"
      ],
      "metadata": {
        "id": "TS1LUcMZ5ias"
      },
      "execution_count": null,
      "outputs": []
    },
    {
      "cell_type": "code",
      "source": [
        "df_recipes = df_recipes.drop(columns = ['minutes', 'id', 'contributor_id', 'submitted', 'nutrition', 'n_steps', 'steps', 'description', 'n_ingredients'])"
      ],
      "metadata": {
        "id": "b56u4jT9FbF0"
      },
      "execution_count": null,
      "outputs": []
    },
    {
      "cell_type": "code",
      "source": [
        "df_recipes"
      ],
      "metadata": {
        "colab": {
          "base_uri": "https://localhost:8080/",
          "height": 1000
        },
        "id": "b4Pg_Y-DNY5t",
        "outputId": "c1a101cb-2d95-497f-a2b1-2069f573c534"
      },
      "execution_count": null,
      "outputs": [
        {
          "output_type": "stream",
          "name": "stdout",
          "text": [
            "Warning: total number of rows (231637) exceeds max_rows (20000). Falling back to pandas display.\n"
          ]
        },
        {
          "output_type": "execute_result",
          "data": {
            "text/html": [
              "<div>\n",
              "<style scoped>\n",
              "    .dataframe tbody tr th:only-of-type {\n",
              "        vertical-align: middle;\n",
              "    }\n",
              "\n",
              "    .dataframe tbody tr th {\n",
              "        vertical-align: top;\n",
              "    }\n",
              "\n",
              "    .dataframe thead th {\n",
              "        text-align: right;\n",
              "    }\n",
              "</style>\n",
              "<table border=\"1\" class=\"dataframe\">\n",
              "  <thead>\n",
              "    <tr style=\"text-align: right;\">\n",
              "      <th></th>\n",
              "      <th>name</th>\n",
              "      <th>tags</th>\n",
              "      <th>ingredients</th>\n",
              "    </tr>\n",
              "  </thead>\n",
              "  <tbody>\n",
              "    <tr>\n",
              "      <th>0</th>\n",
              "      <td>arriba   baked winter squash mexican style</td>\n",
              "      <td>['60-minutes-or-less', 'time-to-make', 'course', 'main-ingredient', 'cuisine', 'preparation', 'occasion', 'north-american', 'side-dishes', 'vegetables', 'mexican', 'easy', 'fall', 'holiday-event', 'vegetarian', 'winter', 'dietary', 'christmas', 'seasonal', 'squash']</td>\n",
              "      <td>['winter squash', 'mexican seasoning', 'mixed spice', 'honey', 'butter', 'olive oil', 'salt']</td>\n",
              "    </tr>\n",
              "    <tr>\n",
              "      <th>1</th>\n",
              "      <td>a bit different  breakfast pizza</td>\n",
              "      <td>['30-minutes-or-less', 'time-to-make', 'course', 'main-ingredient', 'cuisine', 'preparation', 'occasion', 'north-american', 'breakfast', 'main-dish', 'pork', 'american', 'oven', 'easy', 'kid-friendly', 'pizza', 'dietary', 'northeastern-united-states', 'meat', 'equipment']</td>\n",
              "      <td>['prepared pizza crust', 'sausage patty', 'eggs', 'milk', 'salt and pepper', 'cheese']</td>\n",
              "    </tr>\n",
              "    <tr>\n",
              "      <th>2</th>\n",
              "      <td>all in the kitchen  chili</td>\n",
              "      <td>['time-to-make', 'course', 'preparation', 'main-dish', 'chili', 'crock-pot-slow-cooker', 'dietary', 'equipment', '4-hours-or-less']</td>\n",
              "      <td>['ground beef', 'yellow onions', 'diced tomatoes', 'tomato paste', 'tomato soup', 'rotel tomatoes', 'kidney beans', 'water', 'chili powder', 'ground cumin', 'salt', 'lettuce', 'cheddar cheese']</td>\n",
              "    </tr>\n",
              "    <tr>\n",
              "      <th>3</th>\n",
              "      <td>alouette  potatoes</td>\n",
              "      <td>['60-minutes-or-less', 'time-to-make', 'course', 'main-ingredient', 'preparation', 'occasion', 'side-dishes', 'eggs-dairy', 'potatoes', 'vegetables', 'oven', 'easy', 'dinner-party', 'holiday-event', 'easter', 'cheese', 'stove-top', 'dietary', 'christmas', 'new-years', 'thanksgiving', 'independence-day', 'st-patricks-day', 'valentines-day', 'inexpensive', 'brunch', 'superbowl', 'equipment', 'presentation', 'served-hot']</td>\n",
              "      <td>['spreadable cheese with garlic and herbs', 'new potatoes', 'shallots', 'parsley', 'tarragon', 'olive oil', 'red wine vinegar', 'salt', 'pepper', 'red bell pepper', 'yellow bell pepper']</td>\n",
              "    </tr>\n",
              "    <tr>\n",
              "      <th>4</th>\n",
              "      <td>amish  tomato ketchup  for canning</td>\n",
              "      <td>['weeknight', 'time-to-make', 'course', 'main-ingredient', 'cuisine', 'preparation', 'occasion', 'north-american', 'canning', 'condiments-etc', 'vegetables', 'american', 'heirloom-historical', 'holiday-event', 'vegetarian', 'dietary', 'amish-mennonite', 'northeastern-united-states', 'number-of-servings', 'technique', '4-hours-or-less']</td>\n",
              "      <td>['tomato juice', 'apple cider vinegar', 'sugar', 'salt', 'pepper', 'clove oil', 'cinnamon oil', 'dry mustard']</td>\n",
              "    </tr>\n",
              "    <tr>\n",
              "      <th>...</th>\n",
              "      <td>...</td>\n",
              "      <td>...</td>\n",
              "      <td>...</td>\n",
              "    </tr>\n",
              "    <tr>\n",
              "      <th>231632</th>\n",
              "      <td>zydeco soup</td>\n",
              "      <td>['ham', '60-minutes-or-less', 'time-to-make', 'course', 'main-ingredient', 'cuisine', 'preparation', 'north-american', 'soups-stews', 'pork', 'vegetables', 'american', 'cajun', 'southern-united-states', 'easy', 'creole', 'meat', 'peppers', 'tomatoes', '3-steps-or-less']</td>\n",
              "      <td>['celery', 'onion', 'green sweet pepper', 'garlic cloves', 'olive oil', 'cooked ham', 'paprika', 'sugar', 'dry mustard', 'ground cumin', 'dried basil', 'dried oregano', 'dried thyme', 'ground cloves', 'black pepper', 'cayenne pepper', 'black-eyed peas', 'yellow hominy', 'diced tomatoes', 'low sodium chicken broth', 'fresh parsley', 'molasses']</td>\n",
              "    </tr>\n",
              "    <tr>\n",
              "      <th>231633</th>\n",
              "      <td>zydeco spice mix</td>\n",
              "      <td>['15-minutes-or-less', 'time-to-make', 'course', 'preparation', 'for-large-groups', 'condiments-etc', 'easy', 'vegan', 'vegetarian', 'herb-and-spice-mixes', 'dietary', 'cooking-mixes', 'number-of-servings', '3-steps-or-less']</td>\n",
              "      <td>['paprika', 'salt', 'garlic powder', 'onion powder', 'dried basil', 'dried oregano', 'dried tarragon', 'dried thyme', 'powdered sugar', 'black pepper', 'cayenne pepper', 'red pepper flakes', 'celery seed']</td>\n",
              "    </tr>\n",
              "    <tr>\n",
              "      <th>231634</th>\n",
              "      <td>zydeco ya ya deviled eggs</td>\n",
              "      <td>['60-minutes-or-less', 'time-to-make', 'course', 'main-ingredient', 'preparation', 'appetizers', 'eggs-dairy', 'easy', 'finger-food', 'eggs', 'presentation', 'served-cold', '3-steps-or-less']</td>\n",
              "      <td>['hard-cooked eggs', 'mayonnaise', 'dijon mustard', 'salt-free cajun seasoning', 'tabasco sauce', 'salt', 'black pepper', 'fresh italian parsley']</td>\n",
              "    </tr>\n",
              "    <tr>\n",
              "      <th>231635</th>\n",
              "      <td>cookies by design   cookies on a stick</td>\n",
              "      <td>['30-minutes-or-less', 'time-to-make', 'course', 'preparation', 'for-large-groups', 'hand-formed-cookies', 'desserts', 'cookies-and-brownies', 'dietary', 'high-calcium', 'high-in-something', 'number-of-servings']</td>\n",
              "      <td>['butter', 'eagle brand condensed milk', 'light brown sugar', 'sour cream', 'egg', 'extract', 'nutmeg', 'self-rising flour', 'bisquick', 'wooden popsicle sticks']</td>\n",
              "    </tr>\n",
              "    <tr>\n",
              "      <th>231636</th>\n",
              "      <td>cookies by design   sugar shortbread cookies</td>\n",
              "      <td>['30-minutes-or-less', 'time-to-make', 'course', 'preparation', 'occasion', 'for-large-groups', 'rolled-cookies', 'desserts', 'kid-friendly', 'cookies-and-brownies', 'dietary', 'comfort-food', 'taste-mood', 'sweet', 'number-of-servings']</td>\n",
              "      <td>['granulated sugar', 'shortening', 'eggs', 'flour', 'cream of tartar', 'baking soda', 'vanilla extract']</td>\n",
              "    </tr>\n",
              "  </tbody>\n",
              "</table>\n",
              "<p>231637 rows × 3 columns</p>\n",
              "</div>"
            ],
            "text/plain": [
              "                                                name  \\\n",
              "0         arriba   baked winter squash mexican style   \n",
              "1                   a bit different  breakfast pizza   \n",
              "2                          all in the kitchen  chili   \n",
              "3                                 alouette  potatoes   \n",
              "4                 amish  tomato ketchup  for canning   \n",
              "...                                              ...   \n",
              "231632                                   zydeco soup   \n",
              "231633                              zydeco spice mix   \n",
              "231634                     zydeco ya ya deviled eggs   \n",
              "231635        cookies by design   cookies on a stick   \n",
              "231636  cookies by design   sugar shortbread cookies   \n",
              "\n",
              "                                                                                                                                                                                                                                                                                                                                                                                                                                          tags  \\\n",
              "0                                                                                                                                                                   ['60-minutes-or-less', 'time-to-make', 'course', 'main-ingredient', 'cuisine', 'preparation', 'occasion', 'north-american', 'side-dishes', 'vegetables', 'mexican', 'easy', 'fall', 'holiday-event', 'vegetarian', 'winter', 'dietary', 'christmas', 'seasonal', 'squash']   \n",
              "1                                                                                                                                                             ['30-minutes-or-less', 'time-to-make', 'course', 'main-ingredient', 'cuisine', 'preparation', 'occasion', 'north-american', 'breakfast', 'main-dish', 'pork', 'american', 'oven', 'easy', 'kid-friendly', 'pizza', 'dietary', 'northeastern-united-states', 'meat', 'equipment']   \n",
              "2                                                                                                                                                                                                                                                                                                          ['time-to-make', 'course', 'preparation', 'main-dish', 'chili', 'crock-pot-slow-cooker', 'dietary', 'equipment', '4-hours-or-less']   \n",
              "3       ['60-minutes-or-less', 'time-to-make', 'course', 'main-ingredient', 'preparation', 'occasion', 'side-dishes', 'eggs-dairy', 'potatoes', 'vegetables', 'oven', 'easy', 'dinner-party', 'holiday-event', 'easter', 'cheese', 'stove-top', 'dietary', 'christmas', 'new-years', 'thanksgiving', 'independence-day', 'st-patricks-day', 'valentines-day', 'inexpensive', 'brunch', 'superbowl', 'equipment', 'presentation', 'served-hot']   \n",
              "4                                                                                            ['weeknight', 'time-to-make', 'course', 'main-ingredient', 'cuisine', 'preparation', 'occasion', 'north-american', 'canning', 'condiments-etc', 'vegetables', 'american', 'heirloom-historical', 'holiday-event', 'vegetarian', 'dietary', 'amish-mennonite', 'northeastern-united-states', 'number-of-servings', 'technique', '4-hours-or-less']   \n",
              "...                                                                                                                                                                                                                                                                                                                                                                                                                                        ...   \n",
              "231632                                                                                                                                                          ['ham', '60-minutes-or-less', 'time-to-make', 'course', 'main-ingredient', 'cuisine', 'preparation', 'north-american', 'soups-stews', 'pork', 'vegetables', 'american', 'cajun', 'southern-united-states', 'easy', 'creole', 'meat', 'peppers', 'tomatoes', '3-steps-or-less']   \n",
              "231633                                                                                                                                                                                                       ['15-minutes-or-less', 'time-to-make', 'course', 'preparation', 'for-large-groups', 'condiments-etc', 'easy', 'vegan', 'vegetarian', 'herb-and-spice-mixes', 'dietary', 'cooking-mixes', 'number-of-servings', '3-steps-or-less']   \n",
              "231634                                                                                                                                                                                                                                         ['60-minutes-or-less', 'time-to-make', 'course', 'main-ingredient', 'preparation', 'appetizers', 'eggs-dairy', 'easy', 'finger-food', 'eggs', 'presentation', 'served-cold', '3-steps-or-less']   \n",
              "231635                                                                                                                                                                                                                    ['30-minutes-or-less', 'time-to-make', 'course', 'preparation', 'for-large-groups', 'hand-formed-cookies', 'desserts', 'cookies-and-brownies', 'dietary', 'high-calcium', 'high-in-something', 'number-of-servings']   \n",
              "231636                                                                                                                                                                                           ['30-minutes-or-less', 'time-to-make', 'course', 'preparation', 'occasion', 'for-large-groups', 'rolled-cookies', 'desserts', 'kid-friendly', 'cookies-and-brownies', 'dietary', 'comfort-food', 'taste-mood', 'sweet', 'number-of-servings']   \n",
              "\n",
              "                                                                                                                                                                                                                                                                                                                                                      ingredients  \n",
              "0                                                                                                                                                                                                                                                                   ['winter squash', 'mexican seasoning', 'mixed spice', 'honey', 'butter', 'olive oil', 'salt']  \n",
              "1                                                                                                                                                                                                                                                                          ['prepared pizza crust', 'sausage patty', 'eggs', 'milk', 'salt and pepper', 'cheese']  \n",
              "2                                                                                                                                                               ['ground beef', 'yellow onions', 'diced tomatoes', 'tomato paste', 'tomato soup', 'rotel tomatoes', 'kidney beans', 'water', 'chili powder', 'ground cumin', 'salt', 'lettuce', 'cheddar cheese']  \n",
              "3                                                                                                                                                                      ['spreadable cheese with garlic and herbs', 'new potatoes', 'shallots', 'parsley', 'tarragon', 'olive oil', 'red wine vinegar', 'salt', 'pepper', 'red bell pepper', 'yellow bell pepper']  \n",
              "4                                                                                                                                                                                                                                                  ['tomato juice', 'apple cider vinegar', 'sugar', 'salt', 'pepper', 'clove oil', 'cinnamon oil', 'dry mustard']  \n",
              "...                                                                                                                                                                                                                                                                                                                                                           ...  \n",
              "231632  ['celery', 'onion', 'green sweet pepper', 'garlic cloves', 'olive oil', 'cooked ham', 'paprika', 'sugar', 'dry mustard', 'ground cumin', 'dried basil', 'dried oregano', 'dried thyme', 'ground cloves', 'black pepper', 'cayenne pepper', 'black-eyed peas', 'yellow hominy', 'diced tomatoes', 'low sodium chicken broth', 'fresh parsley', 'molasses']  \n",
              "231633                                                                                                                                              ['paprika', 'salt', 'garlic powder', 'onion powder', 'dried basil', 'dried oregano', 'dried tarragon', 'dried thyme', 'powdered sugar', 'black pepper', 'cayenne pepper', 'red pepper flakes', 'celery seed']  \n",
              "231634                                                                                                                                                                                                         ['hard-cooked eggs', 'mayonnaise', 'dijon mustard', 'salt-free cajun seasoning', 'tabasco sauce', 'salt', 'black pepper', 'fresh italian parsley']  \n",
              "231635                                                                                                                                                                                         ['butter', 'eagle brand condensed milk', 'light brown sugar', 'sour cream', 'egg', 'extract', 'nutmeg', 'self-rising flour', 'bisquick', 'wooden popsicle sticks']  \n",
              "231636                                                                                                                                                                                                                                                   ['granulated sugar', 'shortening', 'eggs', 'flour', 'cream of tartar', 'baking soda', 'vanilla extract']  \n",
              "\n",
              "[231637 rows x 3 columns]"
            ]
          },
          "metadata": {},
          "execution_count": 54
        }
      ]
    },
    {
      "cell_type": "code",
      "source": [
        "df_recipes.shape"
      ],
      "metadata": {
        "colab": {
          "base_uri": "https://localhost:8080/"
        },
        "id": "z5b13nShPwYT",
        "outputId": "4c701cca-c889-4884-b87a-e6cccd9e0ca5"
      },
      "execution_count": null,
      "outputs": [
        {
          "output_type": "execute_result",
          "data": {
            "text/plain": [
              "(231637, 3)"
            ]
          },
          "metadata": {},
          "execution_count": 11
        }
      ]
    },
    {
      "cell_type": "markdown",
      "source": [
        "# Parsing the Ingredients"
      ],
      "metadata": {
        "id": "b6Sf12ZGgQD7"
      }
    },
    {
      "cell_type": "code",
      "source": [
        "!pip install unidecode"
      ],
      "metadata": {
        "colab": {
          "base_uri": "https://localhost:8080/"
        },
        "id": "SZ50kLXHP2dG",
        "outputId": "3d0bdf17-0aa9-48f8-c0b9-ba56bb659c42"
      },
      "execution_count": null,
      "outputs": [
        {
          "output_type": "stream",
          "name": "stdout",
          "text": [
            "Collecting unidecode\n",
            "  Downloading Unidecode-1.3.2-py3-none-any.whl (235 kB)\n",
            "\u001b[?25l\r\u001b[K     |█▍                              | 10 kB 18.5 MB/s eta 0:00:01\r\u001b[K     |██▉                             | 20 kB 25.1 MB/s eta 0:00:01\r\u001b[K     |████▏                           | 30 kB 15.0 MB/s eta 0:00:01\r\u001b[K     |█████▋                          | 40 kB 10.1 MB/s eta 0:00:01\r\u001b[K     |███████                         | 51 kB 5.2 MB/s eta 0:00:01\r\u001b[K     |████████▍                       | 61 kB 5.3 MB/s eta 0:00:01\r\u001b[K     |█████████▊                      | 71 kB 5.9 MB/s eta 0:00:01\r\u001b[K     |███████████▏                    | 81 kB 6.5 MB/s eta 0:00:01\r\u001b[K     |████████████▌                   | 92 kB 4.7 MB/s eta 0:00:01\r\u001b[K     |██████████████                  | 102 kB 5.2 MB/s eta 0:00:01\r\u001b[K     |███████████████▎                | 112 kB 5.2 MB/s eta 0:00:01\r\u001b[K     |████████████████▊               | 122 kB 5.2 MB/s eta 0:00:01\r\u001b[K     |██████████████████              | 133 kB 5.2 MB/s eta 0:00:01\r\u001b[K     |███████████████████▌            | 143 kB 5.2 MB/s eta 0:00:01\r\u001b[K     |████████████████████▉           | 153 kB 5.2 MB/s eta 0:00:01\r\u001b[K     |██████████████████████▎         | 163 kB 5.2 MB/s eta 0:00:01\r\u001b[K     |███████████████████████▋        | 174 kB 5.2 MB/s eta 0:00:01\r\u001b[K     |█████████████████████████       | 184 kB 5.2 MB/s eta 0:00:01\r\u001b[K     |██████████████████████████▍     | 194 kB 5.2 MB/s eta 0:00:01\r\u001b[K     |███████████████████████████▉    | 204 kB 5.2 MB/s eta 0:00:01\r\u001b[K     |█████████████████████████████▏  | 215 kB 5.2 MB/s eta 0:00:01\r\u001b[K     |██████████████████████████████▋ | 225 kB 5.2 MB/s eta 0:00:01\r\u001b[K     |████████████████████████████████| 235 kB 5.2 MB/s eta 0:00:01\r\u001b[K     |████████████████████████████████| 235 kB 5.2 MB/s \n",
            "\u001b[?25hInstalling collected packages: unidecode\n",
            "Successfully installed unidecode-1.3.2\n"
          ]
        }
      ]
    },
    {
      "cell_type": "code",
      "source": [
        "import pandas as pd\n",
        "import nltk\n",
        "import string\n",
        "import ast\n",
        "import re\n",
        "import unidecode\n",
        "\n",
        "from nltk.stem import WordNetLemmatizer\n",
        "from nltk.corpus import wordnet\n",
        "from collections import Counter\n",
        "\n",
        "nltk.download('wordnet')"
      ],
      "metadata": {
        "colab": {
          "base_uri": "https://localhost:8080/"
        },
        "id": "TWkkb8rvcG9T",
        "outputId": "94710e84-05a0-4ed5-f674-e0e15ee81463"
      },
      "execution_count": null,
      "outputs": [
        {
          "output_type": "stream",
          "name": "stdout",
          "text": [
            "[nltk_data] Downloading package wordnet to /root/nltk_data...\n",
            "[nltk_data]   Unzipping corpora/wordnet.zip.\n"
          ]
        },
        {
          "output_type": "execute_result",
          "data": {
            "text/plain": [
              "True"
            ]
          },
          "metadata": {},
          "execution_count": 13
        }
      ]
    },
    {
      "cell_type": "code",
      "source": [
        "!touch dataset/parsed_recipes.csv"
      ],
      "metadata": {
        "id": "v2jMQcUxrnEp"
      },
      "execution_count": null,
      "outputs": []
    },
    {
      "cell_type": "code",
      "source": [
        "def ingredient_parser(ingreds):\n",
        "  # Words for removal\n",
        "\n",
        "  words_to_remove = [\"fresh\",\"minced\",\"chopped\" \"oil\",\"a\",\"red\",\"bunch\",\"and\",\"clove\",\"or\",\"leaf\",\"chilli\",\"large\",\"extra\",\"sprig\",\"ground\",\"handful\",\"free\",\"small\",\"pepper\",\"virgin\",\"range\",\"from\",\"dried\",\"sustainable\",\"black\",\"peeled\",\"higher\",\"welfare\",\"seed\",\"for\",\"finely\",\"freshly\",\"sea\",\"quality\",\"white\",\"ripe\",\"few\",\"piece\",\"source\",\"to\",\"organic\",\"flat\",\"smoked\",\"ginger\",\"sliced\",\"green\",\"picked\",\"the\",\"stick\",\"plain\",\"plus\",\"mixed\",\"mint\",\"bay\",\"basil\",\"your\",\"cumin\",\"optional\",\"fennel\",\"serve\",\"mustard\",\"unsalted\",\"baby\",\"paprika\",\"fat\",\"ask\",\"natural\",\"skin\",\"roughly\",\"into\",\"such\",\"cut\",\"good\",\"brown\",\"grated\",\"trimmed\",\"oregano\",\"powder\",\"yellow\",\"dusting\",\"knob\",\"frozen\",\"on\",\"deseeded\",\"low\",\"runny\",\"balsamic\",\"cooked\",\"streaky\",\"nutmeg\",\"sage\",\"rasher\",\"zest\",\"pin\",\"groundnut\",\"breadcrumb\",\"turmeric\",\"halved\",\"grating\",\"stalk\",\"light\",\"tinned\",\"dry\",\"soft\",\"rocket\",\"bone\",\"colour\",\"washed\",\"skinless\",\"leftover\",\"splash\",\"removed\",\"dijon\",\"thick\",\"big\",\"hot\",\"drained\",\"sized\",\"chestnut\",\"watercress\",\"fishmonger\",\"english\",\"dill\",\"caper\",\"raw\",\"worcestershire\",\"flake\",\"cider\",\"cayenne\",\"tbsp\",\"leg\",\"pine\",\"wild\",\"if\",\"fine\",\"herb\",\"almond\",\"shoulder\",\"cube\",\"dressing\",\"with\",\"chunk\",\"spice\",\"thumb\",\"garam\",\"new\",\"little\",\"punnet\",\"peppercorn\",\"shelled\",\"saffron\",\"other\" \"chopped\",\"salt\",\"olive\",\"taste\",\"can\",\"sauce\",\"water\",\"diced\",\"package\",\"italian\",\"shredded\",\"divided\",\"parsley\",\"vinegar\",\"all\",\"purpose\",\"crushed\",\"juice\",\"more\",\"coriander\",\"bell\",\"needed\",\"thinly\",\"boneless\",\"half\",\"thyme\",\"cubed\",\"cinnamon\",\"cilantro\",\"jar\",\"seasoning\",\"rosemary\",\"extract\",\"sweet\",\"baking\",\"beaten\",\"heavy\",\"seeded\",\"tin\",\"vanilla\",\"uncooked\",\"crumb\",\"style\",\"thin\",\"nut\",\"coarsely\",\"spring\",\"chili\",\"cornstarch\",\"strip\",\"cardamom\",\"rinsed\",\"honey\",\"cherry\",\"root\",\"quartered\",\"head\",\"softened\",\"container\",\"crumbled\",\"frying\",\"lean\",\"cooking\",\"roasted\",\"warm\",\"whipping\",\"thawed\",\"corn\",\"pitted\",\"sun\",\"kosher\",\"bite\",\"toasted\",\"lasagna\",\"split\",\"melted\",\"degree\",\"lengthwise\",\"romano\",\"packed\",\"pod\",\"anchovy\",\"rom\",\"prepared\",\"juiced\",\"fluid\",\"floret\",\"room\",\"active\",\"seasoned\",\"mix\",\"deveined\",\"lightly\",\"anise\",\"thai\",\"size\",\"unsweetened\",\"torn\",\"wedge\",\"sour\",\"basmati\",\"marinara\",\"dark\",\"temperature\",\"garnish\",\"bouillon\",\"loaf\",\"shell\",\"reggiano\",\"canola\",\"parmigiano\",\"round\",\"canned\",\"ghee\",\"crust\",\"long\",\"broken\",\"ketchup\",\"bulk\",\"cleaned\",\"condensed\",\"sherry\",\"provolone\",\"cold\",\"soda\",\"cottage\",\"spray\",\"tamarind\",\"pecorino\",\"shortening\",\"part\",\"bottle\",\"sodium\",\"cocoa\",\"grain\",\"french\",\"roast\",\"stem\",\"link\",\"firm\",\"asafoetida\",\"mild\",\"dash\",\"boiling\",\"oil\",\"chopped\",\"vegetable oil\",\"chopped oil\",\"garlic\",\"skin off\",\"bone out\" \"from sustrainable sources\",]\n",
        "\n",
        "  if isinstance(ingreds, list):\n",
        "        ingredients = ingreds\n",
        "  else:\n",
        "    ingredients = ast.literal_eval(ingreds)\n",
        "    # We first get rid of all the punctuation. We make use of str.maketrans. It takes three input\n",
        "    # arguments 'x', 'y', 'z'. 'x' and 'y' must be equal-length strings and characters in 'x'\n",
        "    # are replaced by characters in 'y'. 'z' is a string (string.punctuation here) where each character\n",
        "    #  in the string is mapped to None.\n",
        "    translator = str.maketrans(\"\", \"\", string.punctuation)\n",
        "    lemmatizer = WordNetLemmatizer()\n",
        "    ingred_list = []\n",
        "    for i in ingredients:\n",
        "      i.translate(translator)\n",
        "      # We split up with hyphens as well as spaces\n",
        "      items = re.split(\" |-\", i)\n",
        "      # Get rid of words containing non alphabet letters\n",
        "      items = [word for word in items if word.isalpha()]\n",
        "      # Turn everything to lowercase\n",
        "      items = [word.lower() for word in items]\n",
        "      # remove accents\n",
        "      items = [\n",
        "          unidecode.unidecode(word) for word in items\n",
        "      ]\n",
        "      # Lemmatize words so we can compare words to measuring words\n",
        "      items = [lemmatizer.lemmatize(word) for word in items]\n",
        "      # Get rid of common easy words\n",
        "      items = [word for word in items if word not in words_to_remove]\n",
        "      if items:\n",
        "        ingred_list.append(\" \".join(items))\n",
        "    return ingred_list\n",
        "    \n",
        "df_recipes[\"ingredients_parsed\"] = df_recipes[\"ingredients\"].apply(\n",
        "    lambda x: ingredient_parser(x)\n",
        ")\n",
        "df_recipes.to_csv(r\"dataset/parsed_recipes.csv\", index=False)"
      ],
      "metadata": {
        "id": "pDnMinSINnI1"
      },
      "execution_count": null,
      "outputs": []
    },
    {
      "cell_type": "code",
      "source": [
        "pd.set_option('display.max_columns', None)\n",
        "pd.set_option('display.max_colwidth', None)"
      ],
      "metadata": {
        "id": "LWYTg8AmwbFz"
      },
      "execution_count": null,
      "outputs": []
    },
    {
      "cell_type": "code",
      "source": [
        "df_recipes.head()"
      ],
      "metadata": {
        "colab": {
          "base_uri": "https://localhost:8080/",
          "height": 640
        },
        "id": "mNI4tKSbXnc3",
        "outputId": "2bfb026d-8f70-490e-bf04-a31c54318295"
      },
      "execution_count": null,
      "outputs": [
        {
          "output_type": "execute_result",
          "data": {
            "text/html": [
              "<div>\n",
              "<style scoped>\n",
              "    .dataframe tbody tr th:only-of-type {\n",
              "        vertical-align: middle;\n",
              "    }\n",
              "\n",
              "    .dataframe tbody tr th {\n",
              "        vertical-align: top;\n",
              "    }\n",
              "\n",
              "    .dataframe thead th {\n",
              "        text-align: right;\n",
              "    }\n",
              "</style>\n",
              "<table border=\"1\" class=\"dataframe\">\n",
              "  <thead>\n",
              "    <tr style=\"text-align: right;\">\n",
              "      <th></th>\n",
              "      <th>name</th>\n",
              "      <th>tags</th>\n",
              "      <th>ingredients</th>\n",
              "      <th>ingredients_parsed</th>\n",
              "    </tr>\n",
              "  </thead>\n",
              "  <tbody>\n",
              "    <tr>\n",
              "      <th>0</th>\n",
              "      <td>arriba   baked winter squash mexican style</td>\n",
              "      <td>['60-minutes-or-less', 'time-to-make', 'course', 'main-ingredient', 'cuisine', 'preparation', 'occasion', 'north-american', 'side-dishes', 'vegetables', 'mexican', 'easy', 'fall', 'holiday-event', 'vegetarian', 'winter', 'dietary', 'christmas', 'seasonal', 'squash']</td>\n",
              "      <td>['winter squash', 'mexican seasoning', 'mixed spice', 'honey', 'butter', 'olive oil', 'salt']</td>\n",
              "      <td>[winter squash, mexican, butter]</td>\n",
              "    </tr>\n",
              "    <tr>\n",
              "      <th>1</th>\n",
              "      <td>a bit different  breakfast pizza</td>\n",
              "      <td>['30-minutes-or-less', 'time-to-make', 'course', 'main-ingredient', 'cuisine', 'preparation', 'occasion', 'north-american', 'breakfast', 'main-dish', 'pork', 'american', 'oven', 'easy', 'kid-friendly', 'pizza', 'dietary', 'northeastern-united-states', 'meat', 'equipment']</td>\n",
              "      <td>['prepared pizza crust', 'sausage patty', 'eggs', 'milk', 'salt and pepper', 'cheese']</td>\n",
              "      <td>[pizza, sausage patty, egg, milk, cheese]</td>\n",
              "    </tr>\n",
              "    <tr>\n",
              "      <th>2</th>\n",
              "      <td>all in the kitchen  chili</td>\n",
              "      <td>['time-to-make', 'course', 'preparation', 'main-dish', 'chili', 'crock-pot-slow-cooker', 'dietary', 'equipment', '4-hours-or-less']</td>\n",
              "      <td>['ground beef', 'yellow onions', 'diced tomatoes', 'tomato paste', 'tomato soup', 'rotel tomatoes', 'kidney beans', 'water', 'chili powder', 'ground cumin', 'salt', 'lettuce', 'cheddar cheese']</td>\n",
              "      <td>[beef, onion, tomato, tomato paste, tomato soup, rotel tomato, kidney bean, lettuce, cheddar cheese]</td>\n",
              "    </tr>\n",
              "    <tr>\n",
              "      <th>3</th>\n",
              "      <td>alouette  potatoes</td>\n",
              "      <td>['60-minutes-or-less', 'time-to-make', 'course', 'main-ingredient', 'preparation', 'occasion', 'side-dishes', 'eggs-dairy', 'potatoes', 'vegetables', 'oven', 'easy', 'dinner-party', 'holiday-event', 'easter', 'cheese', 'stove-top', 'dietary', 'christmas', 'new-years', 'thanksgiving', 'independence-day', 'st-patricks-day', 'valentines-day', 'inexpensive', 'brunch', 'superbowl', 'equipment', 'presentation', 'served-hot']</td>\n",
              "      <td>['spreadable cheese with garlic and herbs', 'new potatoes', 'shallots', 'parsley', 'tarragon', 'olive oil', 'red wine vinegar', 'salt', 'pepper', 'red bell pepper', 'yellow bell pepper']</td>\n",
              "      <td>[spreadable cheese, potato, shallot, tarragon, wine]</td>\n",
              "    </tr>\n",
              "    <tr>\n",
              "      <th>4</th>\n",
              "      <td>amish  tomato ketchup  for canning</td>\n",
              "      <td>['weeknight', 'time-to-make', 'course', 'main-ingredient', 'cuisine', 'preparation', 'occasion', 'north-american', 'canning', 'condiments-etc', 'vegetables', 'american', 'heirloom-historical', 'holiday-event', 'vegetarian', 'dietary', 'amish-mennonite', 'northeastern-united-states', 'number-of-servings', 'technique', '4-hours-or-less']</td>\n",
              "      <td>['tomato juice', 'apple cider vinegar', 'sugar', 'salt', 'pepper', 'clove oil', 'cinnamon oil', 'dry mustard']</td>\n",
              "      <td>[tomato, apple, sugar]</td>\n",
              "    </tr>\n",
              "  </tbody>\n",
              "</table>\n",
              "</div>"
            ],
            "text/plain": [
              "                                         name  \\\n",
              "0  arriba   baked winter squash mexican style   \n",
              "1            a bit different  breakfast pizza   \n",
              "2                   all in the kitchen  chili   \n",
              "3                          alouette  potatoes   \n",
              "4          amish  tomato ketchup  for canning   \n",
              "\n",
              "                                                                                                                                                                                                                                                                                                                                                                                                                                     tags  \\\n",
              "0                                                                                                                                                              ['60-minutes-or-less', 'time-to-make', 'course', 'main-ingredient', 'cuisine', 'preparation', 'occasion', 'north-american', 'side-dishes', 'vegetables', 'mexican', 'easy', 'fall', 'holiday-event', 'vegetarian', 'winter', 'dietary', 'christmas', 'seasonal', 'squash']   \n",
              "1                                                                                                                                                        ['30-minutes-or-less', 'time-to-make', 'course', 'main-ingredient', 'cuisine', 'preparation', 'occasion', 'north-american', 'breakfast', 'main-dish', 'pork', 'american', 'oven', 'easy', 'kid-friendly', 'pizza', 'dietary', 'northeastern-united-states', 'meat', 'equipment']   \n",
              "2                                                                                                                                                                                                                                                                                                     ['time-to-make', 'course', 'preparation', 'main-dish', 'chili', 'crock-pot-slow-cooker', 'dietary', 'equipment', '4-hours-or-less']   \n",
              "3  ['60-minutes-or-less', 'time-to-make', 'course', 'main-ingredient', 'preparation', 'occasion', 'side-dishes', 'eggs-dairy', 'potatoes', 'vegetables', 'oven', 'easy', 'dinner-party', 'holiday-event', 'easter', 'cheese', 'stove-top', 'dietary', 'christmas', 'new-years', 'thanksgiving', 'independence-day', 'st-patricks-day', 'valentines-day', 'inexpensive', 'brunch', 'superbowl', 'equipment', 'presentation', 'served-hot']   \n",
              "4                                                                                       ['weeknight', 'time-to-make', 'course', 'main-ingredient', 'cuisine', 'preparation', 'occasion', 'north-american', 'canning', 'condiments-etc', 'vegetables', 'american', 'heirloom-historical', 'holiday-event', 'vegetarian', 'dietary', 'amish-mennonite', 'northeastern-united-states', 'number-of-servings', 'technique', '4-hours-or-less']   \n",
              "\n",
              "                                                                                                                                                                                         ingredients  \\\n",
              "0                                                                                                      ['winter squash', 'mexican seasoning', 'mixed spice', 'honey', 'butter', 'olive oil', 'salt']   \n",
              "1                                                                                                             ['prepared pizza crust', 'sausage patty', 'eggs', 'milk', 'salt and pepper', 'cheese']   \n",
              "2  ['ground beef', 'yellow onions', 'diced tomatoes', 'tomato paste', 'tomato soup', 'rotel tomatoes', 'kidney beans', 'water', 'chili powder', 'ground cumin', 'salt', 'lettuce', 'cheddar cheese']   \n",
              "3         ['spreadable cheese with garlic and herbs', 'new potatoes', 'shallots', 'parsley', 'tarragon', 'olive oil', 'red wine vinegar', 'salt', 'pepper', 'red bell pepper', 'yellow bell pepper']   \n",
              "4                                                                                     ['tomato juice', 'apple cider vinegar', 'sugar', 'salt', 'pepper', 'clove oil', 'cinnamon oil', 'dry mustard']   \n",
              "\n",
              "                                                                                     ingredients_parsed  \n",
              "0                                                                      [winter squash, mexican, butter]  \n",
              "1                                                             [pizza, sausage patty, egg, milk, cheese]  \n",
              "2  [beef, onion, tomato, tomato paste, tomato soup, rotel tomato, kidney bean, lettuce, cheddar cheese]  \n",
              "3                                                  [spreadable cheese, potato, shallot, tarragon, wine]  \n",
              "4                                                                                [tomato, apple, sugar]  "
            ]
          },
          "metadata": {},
          "execution_count": 17
        }
      ]
    },
    {
      "cell_type": "markdown",
      "source": [
        "# RECCOMENDATION"
      ],
      "metadata": {
        "id": "_uJmEs7O1WBb"
      }
    },
    {
      "cell_type": "code",
      "source": [
        "import os\n",
        "import sys\n",
        "import logging\n",
        "import unidecode\n",
        "import ast\n",
        "\n",
        "import numpy as np\n",
        "import pandas as pd\n",
        "\n",
        "from gensim.models import Word2Vec\n",
        "from sklearn.feature_extraction.text import TfidfVectorizer\n",
        "from sklearn.metrics.pairwise import cosine_similarity\n",
        "from collections import defaultdict"
      ],
      "metadata": {
        "id": "kzJH3Euy1Kb2"
      },
      "execution_count": null,
      "outputs": []
    },
    {
      "cell_type": "code",
      "source": [
        "def get_and_sort_corpus(data):\n",
        "    \"\"\"\n",
        "    Get corpus with the documents sorted in alphabetical order\n",
        "    \"\"\"\n",
        "    corpus_sorted = []\n",
        "    for doc in data.ingredients_parsed.values:\n",
        "        doc.sort()\n",
        "        corpus_sorted.append(doc)\n",
        "    return corpus_sorted"
      ],
      "metadata": {
        "id": "5ATScgXe1b4Y"
      },
      "execution_count": null,
      "outputs": []
    },
    {
      "cell_type": "code",
      "source": [
        "def get_recommendations(N, scores):\n",
        "    \"\"\"\n",
        "    Top-N recomendations order by score\n",
        "    \"\"\"\n",
        "    # load in recipe dataset\n",
        "    # df_recipes = pd.read_csv(\"dataset/RAW_recipes.csv\")\n",
        "    # order the scores with and filter to get the highest N scores\n",
        "    top = sorted(range(len(scores)), key=lambda i: scores[i], reverse=True)[:N]\n",
        "    # create dataframe to load in recommendations\n",
        "    recommendation = pd.DataFrame(columns=[\"recipe\", \"ingredients\", \"score\"])\n",
        "    count = 0\n",
        "    for i in top:\n",
        "        recommendation.at[count, \"recipe\"] = title_parser(df_recipes[\"name\"][i])\n",
        "        recommendation.at[count, \"ingredients\"] = ingredient_parser_final(\n",
        "            df_recipes[\"ingredients\"][i]\n",
        "        )\n",
        "        recommendation.at[count, \"score\"] = f\"{scores[i]}\"\n",
        "        count += 1\n",
        "    return recommendation"
      ],
      "metadata": {
        "id": "QHX_njFSHLo7"
      },
      "execution_count": null,
      "outputs": []
    },
    {
      "cell_type": "code",
      "source": [
        "def title_parser(title):\n",
        "    title = unidecode.unidecode(title)\n",
        "    return title"
      ],
      "metadata": {
        "id": "WPuH1RAlHLkq"
      },
      "execution_count": null,
      "outputs": []
    },
    {
      "cell_type": "code",
      "source": [
        "def ingredient_parser_final(ingredient):\n",
        "    \"\"\"\n",
        "    neaten the ingredients being outputted\n",
        "    \"\"\"\n",
        "    if isinstance(ingredient, list):\n",
        "        ingredients = ingredient\n",
        "    else:\n",
        "        ingredients = ast.literal_eval(ingredient)\n",
        "\n",
        "    ingredients = \",\".join(ingredients)\n",
        "    ingredients = unidecode.unidecode(ingredients)\n",
        "    return ingredients"
      ],
      "metadata": {
        "id": "eYJIEV2zHLf-"
      },
      "execution_count": null,
      "outputs": []
    },
    {
      "cell_type": "code",
      "source": [
        "class MeanEmbeddingVectorizer(object):\n",
        "    def __init__(self, word_model):\n",
        "        self.word_model = word_model\n",
        "        self.vector_size = word_model.wv.vector_size\n",
        "\n",
        "    def fit(self):  # comply with scikit-learn transformer requirement\n",
        "        return self\n",
        "\n",
        "    def transform(self, docs):  # comply with scikit-learn transformer requirement\n",
        "        doc_word_vector = self.word_average_list(docs)\n",
        "        return doc_word_vector\n",
        "\n",
        "    def word_average(self, sent):\n",
        "        \"\"\"\n",
        "\t\tCompute average word vector for a single doc/sentence.\n",
        "\t\t:param sent: list of sentence tokens\n",
        "\t\t:return:\n",
        "\t\t\tmean: float of averaging word vectors\n",
        "\t\t\"\"\"\n",
        "        mean = []\n",
        "        for word in sent:\n",
        "          if word in self.word_model.wv.index_to_key:\n",
        "            mean.append(self.word_model.wv.get_vector(word))\n",
        "\n",
        "        if not mean:  # empty words\n",
        "            # If a text is empty, return a vector of zeros.\n",
        "            return np.zeros(self.vector_size)\n",
        "        else:\n",
        "            mean = np.array(mean).mean(axis=0)\n",
        "            return mean\n",
        "\n",
        "    def word_average_list(self, docs):\n",
        "      \"\"\"\n",
        "      Compute average word vector for multiple docs, where docs had been tokenized.\n",
        "        :param docs: list of sentence in list of separated tokens\n",
        "\t\t    :return:\n",
        "\t\t\t    array of average word vector in shape (len(docs),)\n",
        "      \"\"\"\n",
        "      return np.vstack([self.word_average(sent) for sent in docs])"
      ],
      "metadata": {
        "id": "CrToxjMyHLBn"
      },
      "execution_count": null,
      "outputs": []
    },
    {
      "cell_type": "code",
      "source": [
        "def get_recs(ingredients, N=5, mean=True):\n",
        "    # load in word2vec model\n",
        "    model = Word2Vec.load(\"models/model_cbow.bin\")\n",
        "    if model:\n",
        "        print(\"Successfully loaded model\")\n",
        "    # load in data\n",
        "    # df_parsed = pd.read_csv(\"dataset/parsed_recipes.csv\")\n",
        "    \n",
        "    # parse ingredients\n",
        "    df_recipes[\"ingredients_parsed\"] = df_recipes[\"ingredients\"].apply(\n",
        "        lambda x: ingredient_parser(x)\n",
        "    )\n",
        "\n",
        "    # create corpus\n",
        "    corpus = get_and_sort_corpus(df_recipes)\n",
        "\n",
        "    if mean:\n",
        "        # get average embdeddings for each document\n",
        "        mean_vec_tr = MeanEmbeddingVectorizer(model)\n",
        "        doc_vec = mean_vec_tr.transform(corpus)\n",
        "        doc_vec = [doc.reshape(1, -1) for doc in doc_vec]\n",
        "\n",
        "        assert len(doc_vec) == len(corpus)\n",
        "    \n",
        "    # create embessing for input text\n",
        "    input1 = ingredients\n",
        "    # create tokens with elements\n",
        "    input1 = input1.split(\",\")\n",
        "    \n",
        "    input = []\n",
        "    \n",
        "    for i in input1:\n",
        "      input.append(i)\n",
        "    \n",
        "    # print(input)\n",
        "    df_input = pd.DataFrame(columns=['ingredients'])\n",
        "    df_input = df_input.append({'ingredients': str(input)}, ignore_index=True)\n",
        "    \n",
        "    df_input[\"ingredients_parsed\"] = df_input[\"ingredients\"].apply(\n",
        "        lambda x: ingredient_parser(x)\n",
        "        # lambda x: print(type(x))\n",
        "    )\n",
        "\n",
        "    print(df_input.head())\n",
        "\n",
        "    parsed_input = []\n",
        "    for i in df_input['ingredients_parsed']:\n",
        "      parsed_input = i\n",
        "    print(parsed_input)\n",
        "\n",
        "    if mean:\n",
        "        input_embedding = mean_vec_tr.transform([parsed_input])[0].reshape(1, -1)\n",
        "        # print(input_embedding)\n",
        "\n",
        "    # get cosine similarity between input embedding and all the document embeddings\n",
        "    cos_sim = map(lambda x: cosine_similarity(input_embedding, x)[0][0], doc_vec)\n",
        "    scores = list(cos_sim)\n",
        "    # print(scores\n",
        "    # Filter top N recommendations\n",
        "    recommendations = get_recommendations(N, scores)\n",
        "    return recommendations"
      ],
      "metadata": {
        "id": "PDe34-41IBt9"
      },
      "execution_count": null,
      "outputs": []
    },
    {
      "cell_type": "code",
      "source": [
        "corpus = get_and_sort_corpus(df_recipes)\n",
        "print(f\"Length of corpus: {len(corpus)}\")"
      ],
      "metadata": {
        "colab": {
          "base_uri": "https://localhost:8080/"
        },
        "id": "0foNC_UpaKK7",
        "outputId": "0ee324e6-1aec-4435-9dfc-c5a5061e4da5"
      },
      "execution_count": null,
      "outputs": [
        {
          "output_type": "stream",
          "name": "stdout",
          "text": [
            "Length of corpus: 231637\n"
          ]
        }
      ]
    },
    {
      "cell_type": "code",
      "source": [
        "lengths = [len(doc) for doc in corpus]\n",
        "avg_len = float(sum(lengths)) / len(lengths)\n",
        "avg_len"
      ],
      "metadata": {
        "colab": {
          "base_uri": "https://localhost:8080/"
        },
        "id": "1pWdxUILdenj",
        "outputId": "06ca5150-58e3-4007-8c93-deb444266a1c"
      },
      "execution_count": null,
      "outputs": [
        {
          "output_type": "execute_result",
          "data": {
            "text/plain": [
              "5.898565427802985"
            ]
          },
          "metadata": {},
          "execution_count": 26
        }
      ]
    },
    {
      "cell_type": "code",
      "source": [
        "sg = 0 # CBOW: build a language model that correctly predicts the center word given the context words in which the center word appears\n",
        "workers = 8 # number of CPUs\n",
        "window = 6 # window size: average length of each document \n",
        "min_count = 1 # unique ingredients are important to decide recipes \n",
        "\n",
        "model_cbow = Word2Vec(corpus, sg=sg, workers=workers, window=window, min_count=min_count)"
      ],
      "metadata": {
        "id": "217Ps7fEczam"
      },
      "execution_count": null,
      "outputs": []
    },
    {
      "cell_type": "code",
      "source": [
        "print(model_cbow)\n",
        "words = list(model_cbow.wv.index_to_key)\n",
        "words.sort()\n",
        "\n",
        "model_cbow.wv.most_similar(u'tomato')\n",
        "# model_cbow.wv.similarity('capsicum', 'paste')"
      ],
      "metadata": {
        "colab": {
          "base_uri": "https://localhost:8080/"
        },
        "id": "fS_DgEhdczBy",
        "outputId": "99981e3a-04dc-46b5-9838-8af1b08870aa"
      },
      "execution_count": null,
      "outputs": [
        {
          "output_type": "stream",
          "name": "stdout",
          "text": [
            "Word2Vec(vocab=8489, vector_size=100, alpha=0.025)\n"
          ]
        },
        {
          "output_type": "execute_result",
          "data": {
            "text/plain": [
              "[('plum tomato', 0.8483703136444092),\n",
              " ('whole tomato', 0.7990044355392456),\n",
              " ('stewed tomato', 0.7356175780296326),\n",
              " ('tomato in puree', 0.7215704917907715),\n",
              " ('no added tomato', 0.6891029477119446),\n",
              " ('tomato puree', 0.6748018860816956),\n",
              " ('fire tomato', 0.6391302943229675),\n",
              " ('itailian essence', 0.6103074550628662),\n",
              " ('summer squash', 0.6053129434585571),\n",
              " ('garbanzo bean', 0.6041463613510132)]"
            ]
          },
          "metadata": {},
          "execution_count": 28
        }
      ]
    },
    {
      "cell_type": "code",
      "source": [
        "!mkdir models"
      ],
      "metadata": {
        "id": "jiuPyjZ25pO2"
      },
      "execution_count": null,
      "outputs": []
    },
    {
      "cell_type": "code",
      "source": [
        "model_cbow.save('models/model_cbow.bin')"
      ],
      "metadata": {
        "id": "KN4B1YGbfwFs"
      },
      "execution_count": null,
      "outputs": []
    },
    {
      "cell_type": "code",
      "source": [
        "df_recipes.head()"
      ],
      "metadata": {
        "colab": {
          "base_uri": "https://localhost:8080/",
          "height": 640
        },
        "id": "5LRpWTX4pgw3",
        "outputId": "c2492bb6-3a70-412a-d8fd-9b8f1c4e8e3c"
      },
      "execution_count": null,
      "outputs": [
        {
          "output_type": "execute_result",
          "data": {
            "text/html": [
              "<div>\n",
              "<style scoped>\n",
              "    .dataframe tbody tr th:only-of-type {\n",
              "        vertical-align: middle;\n",
              "    }\n",
              "\n",
              "    .dataframe tbody tr th {\n",
              "        vertical-align: top;\n",
              "    }\n",
              "\n",
              "    .dataframe thead th {\n",
              "        text-align: right;\n",
              "    }\n",
              "</style>\n",
              "<table border=\"1\" class=\"dataframe\">\n",
              "  <thead>\n",
              "    <tr style=\"text-align: right;\">\n",
              "      <th></th>\n",
              "      <th>name</th>\n",
              "      <th>tags</th>\n",
              "      <th>ingredients</th>\n",
              "      <th>ingredients_parsed</th>\n",
              "    </tr>\n",
              "  </thead>\n",
              "  <tbody>\n",
              "    <tr>\n",
              "      <th>0</th>\n",
              "      <td>arriba   baked winter squash mexican style</td>\n",
              "      <td>['60-minutes-or-less', 'time-to-make', 'course', 'main-ingredient', 'cuisine', 'preparation', 'occasion', 'north-american', 'side-dishes', 'vegetables', 'mexican', 'easy', 'fall', 'holiday-event', 'vegetarian', 'winter', 'dietary', 'christmas', 'seasonal', 'squash']</td>\n",
              "      <td>['winter squash', 'mexican seasoning', 'mixed spice', 'honey', 'butter', 'olive oil', 'salt']</td>\n",
              "      <td>[butter, mexican, winter squash]</td>\n",
              "    </tr>\n",
              "    <tr>\n",
              "      <th>1</th>\n",
              "      <td>a bit different  breakfast pizza</td>\n",
              "      <td>['30-minutes-or-less', 'time-to-make', 'course', 'main-ingredient', 'cuisine', 'preparation', 'occasion', 'north-american', 'breakfast', 'main-dish', 'pork', 'american', 'oven', 'easy', 'kid-friendly', 'pizza', 'dietary', 'northeastern-united-states', 'meat', 'equipment']</td>\n",
              "      <td>['prepared pizza crust', 'sausage patty', 'eggs', 'milk', 'salt and pepper', 'cheese']</td>\n",
              "      <td>[cheese, egg, milk, pizza, sausage patty]</td>\n",
              "    </tr>\n",
              "    <tr>\n",
              "      <th>2</th>\n",
              "      <td>all in the kitchen  chili</td>\n",
              "      <td>['time-to-make', 'course', 'preparation', 'main-dish', 'chili', 'crock-pot-slow-cooker', 'dietary', 'equipment', '4-hours-or-less']</td>\n",
              "      <td>['ground beef', 'yellow onions', 'diced tomatoes', 'tomato paste', 'tomato soup', 'rotel tomatoes', 'kidney beans', 'water', 'chili powder', 'ground cumin', 'salt', 'lettuce', 'cheddar cheese']</td>\n",
              "      <td>[beef, cheddar cheese, kidney bean, lettuce, onion, rotel tomato, tomato, tomato paste, tomato soup]</td>\n",
              "    </tr>\n",
              "    <tr>\n",
              "      <th>3</th>\n",
              "      <td>alouette  potatoes</td>\n",
              "      <td>['60-minutes-or-less', 'time-to-make', 'course', 'main-ingredient', 'preparation', 'occasion', 'side-dishes', 'eggs-dairy', 'potatoes', 'vegetables', 'oven', 'easy', 'dinner-party', 'holiday-event', 'easter', 'cheese', 'stove-top', 'dietary', 'christmas', 'new-years', 'thanksgiving', 'independence-day', 'st-patricks-day', 'valentines-day', 'inexpensive', 'brunch', 'superbowl', 'equipment', 'presentation', 'served-hot']</td>\n",
              "      <td>['spreadable cheese with garlic and herbs', 'new potatoes', 'shallots', 'parsley', 'tarragon', 'olive oil', 'red wine vinegar', 'salt', 'pepper', 'red bell pepper', 'yellow bell pepper']</td>\n",
              "      <td>[potato, shallot, spreadable cheese, tarragon, wine]</td>\n",
              "    </tr>\n",
              "    <tr>\n",
              "      <th>4</th>\n",
              "      <td>amish  tomato ketchup  for canning</td>\n",
              "      <td>['weeknight', 'time-to-make', 'course', 'main-ingredient', 'cuisine', 'preparation', 'occasion', 'north-american', 'canning', 'condiments-etc', 'vegetables', 'american', 'heirloom-historical', 'holiday-event', 'vegetarian', 'dietary', 'amish-mennonite', 'northeastern-united-states', 'number-of-servings', 'technique', '4-hours-or-less']</td>\n",
              "      <td>['tomato juice', 'apple cider vinegar', 'sugar', 'salt', 'pepper', 'clove oil', 'cinnamon oil', 'dry mustard']</td>\n",
              "      <td>[apple, sugar, tomato]</td>\n",
              "    </tr>\n",
              "  </tbody>\n",
              "</table>\n",
              "</div>"
            ],
            "text/plain": [
              "                                         name  \\\n",
              "0  arriba   baked winter squash mexican style   \n",
              "1            a bit different  breakfast pizza   \n",
              "2                   all in the kitchen  chili   \n",
              "3                          alouette  potatoes   \n",
              "4          amish  tomato ketchup  for canning   \n",
              "\n",
              "                                                                                                                                                                                                                                                                                                                                                                                                                                     tags  \\\n",
              "0                                                                                                                                                              ['60-minutes-or-less', 'time-to-make', 'course', 'main-ingredient', 'cuisine', 'preparation', 'occasion', 'north-american', 'side-dishes', 'vegetables', 'mexican', 'easy', 'fall', 'holiday-event', 'vegetarian', 'winter', 'dietary', 'christmas', 'seasonal', 'squash']   \n",
              "1                                                                                                                                                        ['30-minutes-or-less', 'time-to-make', 'course', 'main-ingredient', 'cuisine', 'preparation', 'occasion', 'north-american', 'breakfast', 'main-dish', 'pork', 'american', 'oven', 'easy', 'kid-friendly', 'pizza', 'dietary', 'northeastern-united-states', 'meat', 'equipment']   \n",
              "2                                                                                                                                                                                                                                                                                                     ['time-to-make', 'course', 'preparation', 'main-dish', 'chili', 'crock-pot-slow-cooker', 'dietary', 'equipment', '4-hours-or-less']   \n",
              "3  ['60-minutes-or-less', 'time-to-make', 'course', 'main-ingredient', 'preparation', 'occasion', 'side-dishes', 'eggs-dairy', 'potatoes', 'vegetables', 'oven', 'easy', 'dinner-party', 'holiday-event', 'easter', 'cheese', 'stove-top', 'dietary', 'christmas', 'new-years', 'thanksgiving', 'independence-day', 'st-patricks-day', 'valentines-day', 'inexpensive', 'brunch', 'superbowl', 'equipment', 'presentation', 'served-hot']   \n",
              "4                                                                                       ['weeknight', 'time-to-make', 'course', 'main-ingredient', 'cuisine', 'preparation', 'occasion', 'north-american', 'canning', 'condiments-etc', 'vegetables', 'american', 'heirloom-historical', 'holiday-event', 'vegetarian', 'dietary', 'amish-mennonite', 'northeastern-united-states', 'number-of-servings', 'technique', '4-hours-or-less']   \n",
              "\n",
              "                                                                                                                                                                                         ingredients  \\\n",
              "0                                                                                                      ['winter squash', 'mexican seasoning', 'mixed spice', 'honey', 'butter', 'olive oil', 'salt']   \n",
              "1                                                                                                             ['prepared pizza crust', 'sausage patty', 'eggs', 'milk', 'salt and pepper', 'cheese']   \n",
              "2  ['ground beef', 'yellow onions', 'diced tomatoes', 'tomato paste', 'tomato soup', 'rotel tomatoes', 'kidney beans', 'water', 'chili powder', 'ground cumin', 'salt', 'lettuce', 'cheddar cheese']   \n",
              "3         ['spreadable cheese with garlic and herbs', 'new potatoes', 'shallots', 'parsley', 'tarragon', 'olive oil', 'red wine vinegar', 'salt', 'pepper', 'red bell pepper', 'yellow bell pepper']   \n",
              "4                                                                                     ['tomato juice', 'apple cider vinegar', 'sugar', 'salt', 'pepper', 'clove oil', 'cinnamon oil', 'dry mustard']   \n",
              "\n",
              "                                                                                     ingredients_parsed  \n",
              "0                                                                      [butter, mexican, winter squash]  \n",
              "1                                                             [cheese, egg, milk, pizza, sausage patty]  \n",
              "2  [beef, cheddar cheese, kidney bean, lettuce, onion, rotel tomato, tomato, tomato paste, tomato soup]  \n",
              "3                                                  [potato, shallot, spreadable cheese, tarragon, wine]  \n",
              "4                                                                                [apple, sugar, tomato]  "
            ]
          },
          "metadata": {},
          "execution_count": 31
        }
      ]
    },
    {
      "cell_type": "code",
      "source": [
        "input = \"\"\n",
        "rec = get_recs(input, 10)\n",
        "print(rec)"
      ],
      "metadata": {
        "colab": {
          "base_uri": "https://localhost:8080/"
        },
        "id": "n0sxtiyc2ZQ3",
        "outputId": "fd7f169d-30b0-4acd-cc41-813df8e33e01"
      },
      "execution_count": null,
      "outputs": [
        {
          "output_type": "stream",
          "name": "stdout",
          "text": [
            "Successfully loaded model\n",
            "  ingredients ingredients_parsed\n",
            "0        ['']                 []\n",
            "[]\n",
            "                                       recipe  \\\n",
            "0  arriba   baked winter squash mexican style   \n",
            "1            a bit different  breakfast pizza   \n",
            "2                   all in the kitchen  chili   \n",
            "3                          alouette  potatoes   \n",
            "4          amish  tomato ketchup  for canning   \n",
            "5                     apple a day  milk shake   \n",
            "6                       aww  marinated olives   \n",
            "7              backyard style  barbecued ribs   \n",
            "8                    bananas 4 ice cream  pie   \n",
            "9                     beat this  banana bread   \n",
            "\n",
            "                                                                                                                                                                                                                                                                                                  ingredients  \\\n",
            "0                                                                                                                                                                                                                                     winter squash,mexican seasoning,mixed spice,honey,butter,olive oil,salt   \n",
            "1                                                                                                                                                                                                                                         prepared pizza crust,sausage patty,eggs,milk,salt and pepper,cheese   \n",
            "2                                                                                                                                                   ground beef,yellow onions,diced tomatoes,tomato paste,tomato soup,rotel tomatoes,kidney beans,water,chili powder,ground cumin,salt,lettuce,cheddar cheese   \n",
            "3                                                                                                                                                    spreadable cheese with garlic and herbs,new potatoes,shallots,parsley,tarragon,olive oil,red wine vinegar,salt,pepper,red bell pepper,yellow bell pepper   \n",
            "4                                                                                                                                                                                                                       tomato juice,apple cider vinegar,sugar,salt,pepper,clove oil,cinnamon oil,dry mustard   \n",
            "5                                                                                                                                                                                                                                                 milk,vanilla ice cream,frozen apple juice concentrate,apple   \n",
            "6                                                                                                                                                                                           fennel seeds,green olives,ripe olives,garlic,peppercorn,orange rind,orange juice,red chile,extra virgin olive oil   \n",
            "7  pork spareribs,soy sauce,fresh garlic,fresh ginger,chili powder,fresh coarse ground black pepper,salt,fresh cilantro leaves,tomato sauce,brown sugar,yellow onion,white vinegar,honey,a.1. original sauce,liquid smoke,cracked black pepper,cumin,dry mustard,cinnamon sticks,orange, juice of,mirin,water   \n",
            "8                                                                                                                                                                                               chocolate sandwich style cookies,chocolate syrup,vanilla ice cream,bananas,strawberry ice cream,whipped cream   \n",
            "9                                                                                                                                                                                                                sugar,unsalted butter,bananas,eggs,fresh lemon juice,orange rind,cake flour,baking soda,salt   \n",
            "\n",
            "  score  \n",
            "0   0.0  \n",
            "1   0.0  \n",
            "2   0.0  \n",
            "3   0.0  \n",
            "4   0.0  \n",
            "5   0.0  \n",
            "6   0.0  \n",
            "7   0.0  \n",
            "8   0.0  \n",
            "9   0.0  \n"
          ]
        }
      ]
    },
    {
      "cell_type": "code",
      "source": [
        ""
      ],
      "metadata": {
        "id": "TkHrapUnBLj_"
      },
      "execution_count": null,
      "outputs": []
    },
    {
      "cell_type": "code",
      "source": [
        ""
      ],
      "metadata": {
        "id": "9dtSxi7YBLZ6"
      },
      "execution_count": null,
      "outputs": []
    },
    {
      "cell_type": "code",
      "source": [
        ""
      ],
      "metadata": {
        "id": "iN8vLSQaBLLG"
      },
      "execution_count": null,
      "outputs": []
    },
    {
      "cell_type": "code",
      "source": [
        ""
      ],
      "metadata": {
        "id": "ZXoe6SLsBK_-"
      },
      "execution_count": null,
      "outputs": []
    },
    {
      "cell_type": "code",
      "source": [
        "ingreds = [\"fresh tomato\", \"apple\", \"sugar\"]\n",
        "\n",
        "# print(type(input))\n",
        "# df = pd.DataFrame(columns=[\"ingredients\"])\n",
        "# for i in ingreds:\n",
        "#   print(type(i))\n",
        "#   df = df.append({'ingredients': str(i)}, ignore_index=True)\n",
        "#   print(\"done\")\n",
        "# df['parsed_ingredients'] = df['ingredients'].apply(\n",
        "#     lambda x: ingredient_parser(x)\n",
        "# )"
      ],
      "metadata": {
        "colab": {
          "base_uri": "https://localhost:8080/"
        },
        "id": "piV4LCgMIBfo",
        "outputId": "5b772607-73e7-42ff-f09f-4f9839a8d39a"
      },
      "execution_count": null,
      "outputs": [
        {
          "output_type": "stream",
          "name": "stdout",
          "text": [
            "<class 'str'>\n",
            "done\n",
            "<class 'str'>\n",
            "done\n",
            "<class 'str'>\n",
            "done\n"
          ]
        }
      ]
    },
    {
      "cell_type": "code",
      "source": [
        "df.head()"
      ],
      "metadata": {
        "colab": {
          "base_uri": "https://localhost:8080/",
          "height": 143
        },
        "id": "DHpubE3uIBbL",
        "outputId": "54c951e3-d193-4b24-9c9f-6fb484bcc7b2"
      },
      "execution_count": null,
      "outputs": [
        {
          "output_type": "execute_result",
          "data": {
            "text/html": [
              "<div>\n",
              "<style scoped>\n",
              "    .dataframe tbody tr th:only-of-type {\n",
              "        vertical-align: middle;\n",
              "    }\n",
              "\n",
              "    .dataframe tbody tr th {\n",
              "        vertical-align: top;\n",
              "    }\n",
              "\n",
              "    .dataframe thead th {\n",
              "        text-align: right;\n",
              "    }\n",
              "</style>\n",
              "<table border=\"1\" class=\"dataframe\">\n",
              "  <thead>\n",
              "    <tr style=\"text-align: right;\">\n",
              "      <th></th>\n",
              "      <th>ingredients</th>\n",
              "    </tr>\n",
              "  </thead>\n",
              "  <tbody>\n",
              "    <tr>\n",
              "      <th>0</th>\n",
              "      <td>fresh tomato</td>\n",
              "    </tr>\n",
              "    <tr>\n",
              "      <th>1</th>\n",
              "      <td>apple</td>\n",
              "    </tr>\n",
              "    <tr>\n",
              "      <th>2</th>\n",
              "      <td>sugar</td>\n",
              "    </tr>\n",
              "  </tbody>\n",
              "</table>\n",
              "</div>"
            ],
            "text/plain": [
              "    ingredients\n",
              "0  fresh tomato\n",
              "1         apple\n",
              "2         sugar"
            ]
          },
          "metadata": {},
          "execution_count": 131
        }
      ]
    },
    {
      "cell_type": "code",
      "source": [
        ""
      ],
      "metadata": {
        "id": "rQAYtcfPIBWq"
      },
      "execution_count": null,
      "outputs": []
    },
    {
      "cell_type": "markdown",
      "source": [
        "## Filtering code(trial) - NOT FOR RUNNING ATM"
      ],
      "metadata": {
        "id": "rEjT5V8A1LLq"
      }
    },
    {
      "cell_type": "code",
      "source": [
        "found = 0\n",
        "for i in df_recipes['tags']:\n",
        "  found+=1\n",
        "  if(not \"ham\" in i):\n",
        "    df_recipes = df_recipes.drop(labels=(found-1), axis=0)\n",
        "    # print(found-1)\n"
      ],
      "metadata": {
        "id": "WJaX-ruSnZnv"
      },
      "execution_count": null,
      "outputs": []
    },
    {
      "cell_type": "code",
      "source": [
        "# ['cream of tartar', 'egg', 'flour', 'granulated sugar']\n",
        "found = 0\n",
        "for i in df_recipes['tags']:\n",
        "  # found+=1\n",
        "  if(not \"vegetarian\" in i):\n",
        "    found+=1\n",
        "    # print(df_recipes.loc[[23636]])\n",
        "    # df_recipes = df_recipes.drop(labels=(found-1), axis=0)\n",
        "print(found)\n",
        "\n",
        "# print(df_recipes.loc[[231636]])"
      ],
      "metadata": {
        "colab": {
          "base_uri": "https://localhost:8080/"
        },
        "id": "ARsTu-4iNLiH",
        "outputId": "9c1e6bf2-4aa5-43ae-ad62-e844aab9b576"
      },
      "execution_count": null,
      "outputs": [
        {
          "output_type": "stream",
          "name": "stdout",
          "text": [
            "195986\n"
          ]
        }
      ]
    },
    {
      "cell_type": "code",
      "source": [
        "df_recipes.shape"
      ],
      "metadata": {
        "colab": {
          "base_uri": "https://localhost:8080/"
        },
        "id": "V6v6G9KJMFPx",
        "outputId": "48dd5895-6b82-46b8-fad6-4e6079f71143"
      },
      "execution_count": null,
      "outputs": [
        {
          "output_type": "execute_result",
          "data": {
            "text/plain": [
              "(231304, 4)"
            ]
          },
          "metadata": {},
          "execution_count": 31
        }
      ]
    },
    {
      "cell_type": "code",
      "source": [
        "pd.set_option('display.max_columns', None)\n",
        "pd.set_option('display.max_colwidth', None)"
      ],
      "metadata": {
        "id": "sbVsZ6sqndlq"
      },
      "execution_count": null,
      "outputs": []
    },
    {
      "cell_type": "code",
      "source": [
        "print(df_recipes.loc[[115093]])"
      ],
      "metadata": {
        "colab": {
          "base_uri": "https://localhost:8080/"
        },
        "id": "styPl13e_JYo",
        "outputId": "1e063462-a8f5-497c-8810-6f5678e96e20"
      },
      "execution_count": null,
      "outputs": [
        {
          "output_type": "stream",
          "name": "stdout",
          "text": [
            "                                        name  \\\n",
            "115093  jewish chicken soup with matzo balls   \n",
            "\n",
            "                                                                                                                                     tags  \\\n",
            "115093  ['time-to-make', 'course', 'cuisine', 'preparation', 'soups-stews', 'jewish-ashkenazi', 'european', 'dietary', '4-hours-or-less']   \n",
            "\n",
            "                                                                                                                                                                ingredients  \\\n",
            "115093  ['eggs', 'egg white', 'salt', 'matzo meal', 'oil', 'homemade chicken broth', 'parsnips', 'carrot', 'onion', 'broccoli floret', 'mushroom', 'fresh dill', 'parsley']   \n",
            "\n",
            "                                                                                ingredients_parsed  \n",
            "115093  [broccoli, carrot, egg, egg, homemade chicken broth, matzo meal, mushroom, onion, parsnip]  \n"
          ]
        }
      ]
    },
    {
      "cell_type": "code",
      "source": [
        "!unzip food-com-recipes-and-user-interactions.zip -d dataset/"
      ],
      "metadata": {
        "colab": {
          "base_uri": "https://localhost:8080/"
        },
        "id": "ip1AMmoohwas",
        "outputId": "d5390ab6-d924-4a47-9993-d8ca63c1cbc1"
      },
      "execution_count": null,
      "outputs": [
        {
          "output_type": "stream",
          "name": "stdout",
          "text": [
            "Archive:  food-com-recipes-and-user-interactions.zip\n",
            "replace dataset/PP_recipes.csv? [y]es, [n]o, [A]ll, [N]one, [r]ename: n\n",
            "replace dataset/PP_users.csv? [y]es, [n]o, [A]ll, [N]one, [r]ename: n\n",
            "replace dataset/RAW_interactions.csv? [y]es, [n]o, [A]ll, [N]one, [r]ename: n\n",
            "replace dataset/RAW_recipes.csv? [y]es, [n]o, [A]ll, [N]one, [r]ename: y\n",
            "  inflating: dataset/RAW_recipes.csv  \n",
            "replace dataset/ingr_map.pkl? [y]es, [n]o, [A]ll, [N]one, [r]ename: n\n",
            "replace dataset/interactions_test.csv? [y]es, [n]o, [A]ll, [N]one, [r]ename: n\n",
            "replace dataset/interactions_train.csv? [y]es, [n]o, [A]ll, [N]one, [r]ename: n\n",
            "replace dataset/interactions_validation.csv? [y]es, [n]o, [A]ll, [N]one, [r]ename: n\n"
          ]
        }
      ]
    },
    {
      "cell_type": "code",
      "source": [
        "import pandas as pd\n",
        "df_recipes = pd.read_csv(\"dataset/RAW_recipes.csv\")\n",
        "df_recipes = df_recipes.drop(columns = ['minutes', 'id', 'contributor_id', 'submitted', 'nutrition', 'n_steps', 'steps', 'description', 'n_ingredients'])"
      ],
      "metadata": {
        "id": "Y8GiMuQIhxcP"
      },
      "execution_count": null,
      "outputs": []
    },
    {
      "cell_type": "code",
      "source": [
        "df_recipes = df_recipes.drop(range(220054,231636))"
      ],
      "metadata": {
        "id": "0I8NaD1oA-F9"
      },
      "execution_count": null,
      "outputs": []
    },
    {
      "cell_type": "code",
      "source": [
        ""
      ],
      "metadata": {
        "id": "XDS1tCrqpoYS"
      },
      "execution_count": null,
      "outputs": []
    },
    {
      "cell_type": "code",
      "source": [
        "df_recipes.shape"
      ],
      "metadata": {
        "colab": {
          "base_uri": "https://localhost:8080/"
        },
        "id": "j2xbX_goVwxV",
        "outputId": "3f46c857-3a16-47ce-d72b-f2ca26c1667e"
      },
      "execution_count": null,
      "outputs": [
        {
          "output_type": "execute_result",
          "data": {
            "text/plain": [
              "(220055, 3)"
            ]
          },
          "metadata": {},
          "execution_count": 79
        }
      ]
    },
    {
      "cell_type": "code",
      "source": [
        "from google.colab import data_table\n",
        "data_table.enable_dataframe_formatter()"
      ],
      "metadata": {
        "id": "bTMYIF_EXVeg"
      },
      "execution_count": null,
      "outputs": []
    },
    {
      "cell_type": "code",
      "source": [
        "df_recipes"
      ],
      "metadata": {
        "colab": {
          "base_uri": "https://localhost:8080/",
          "height": 1000
        },
        "id": "eHGYdTnBV1Tx",
        "outputId": "e8ff8cf9-893c-4461-cf83-969247846e23"
      },
      "execution_count": null,
      "outputs": [
        {
          "output_type": "stream",
          "name": "stdout",
          "text": [
            "Warning: total number of rows (162146) exceeds max_rows (20000). Falling back to pandas display.\n"
          ]
        },
        {
          "output_type": "execute_result",
          "data": {
            "text/html": [
              "<div>\n",
              "<style scoped>\n",
              "    .dataframe tbody tr th:only-of-type {\n",
              "        vertical-align: middle;\n",
              "    }\n",
              "\n",
              "    .dataframe tbody tr th {\n",
              "        vertical-align: top;\n",
              "    }\n",
              "\n",
              "    .dataframe thead th {\n",
              "        text-align: right;\n",
              "    }\n",
              "</style>\n",
              "<table border=\"1\" class=\"dataframe\">\n",
              "  <thead>\n",
              "    <tr style=\"text-align: right;\">\n",
              "      <th></th>\n",
              "      <th>name</th>\n",
              "      <th>tags</th>\n",
              "      <th>ingredients</th>\n",
              "    </tr>\n",
              "  </thead>\n",
              "  <tbody>\n",
              "    <tr>\n",
              "      <th>0</th>\n",
              "      <td>arriba   baked winter squash mexican style</td>\n",
              "      <td>['60-minutes-or-less', 'time-to-make', 'course', 'main-ingredient', 'cuisine', 'preparation', 'occasion', 'north-american', 'side-dishes', 'vegetables', 'mexican', 'easy', 'fall', 'holiday-event', 'vegetarian', 'winter', 'dietary', 'christmas', 'seasonal', 'squash']</td>\n",
              "      <td>['winter squash', 'mexican seasoning', 'mixed spice', 'honey', 'butter', 'olive oil', 'salt']</td>\n",
              "    </tr>\n",
              "    <tr>\n",
              "      <th>1</th>\n",
              "      <td>a bit different  breakfast pizza</td>\n",
              "      <td>['30-minutes-or-less', 'time-to-make', 'course', 'main-ingredient', 'cuisine', 'preparation', 'occasion', 'north-american', 'breakfast', 'main-dish', 'pork', 'american', 'oven', 'easy', 'kid-friendly', 'pizza', 'dietary', 'northeastern-united-states', 'meat', 'equipment']</td>\n",
              "      <td>['prepared pizza crust', 'sausage patty', 'eggs', 'milk', 'salt and pepper', 'cheese']</td>\n",
              "    </tr>\n",
              "    <tr>\n",
              "      <th>2</th>\n",
              "      <td>all in the kitchen  chili</td>\n",
              "      <td>['time-to-make', 'course', 'preparation', 'main-dish', 'chili', 'crock-pot-slow-cooker', 'dietary', 'equipment', '4-hours-or-less']</td>\n",
              "      <td>['ground beef', 'yellow onions', 'diced tomatoes', 'tomato paste', 'tomato soup', 'rotel tomatoes', 'kidney beans', 'water', 'chili powder', 'ground cumin', 'salt', 'lettuce', 'cheddar cheese']</td>\n",
              "    </tr>\n",
              "    <tr>\n",
              "      <th>3</th>\n",
              "      <td>alouette  potatoes</td>\n",
              "      <td>['60-minutes-or-less', 'time-to-make', 'course', 'main-ingredient', 'preparation', 'occasion', 'side-dishes', 'eggs-dairy', 'potatoes', 'vegetables', 'oven', 'easy', 'dinner-party', 'holiday-event', 'easter', 'cheese', 'stove-top', 'dietary', 'christmas', 'new-years', 'thanksgiving', 'independence-day', 'st-patricks-day', 'valentines-day', 'inexpensive', 'brunch', 'superbowl', 'equipment', 'presentation', 'served-hot']</td>\n",
              "      <td>['spreadable cheese with garlic and herbs', 'new potatoes', 'shallots', 'parsley', 'tarragon', 'olive oil', 'red wine vinegar', 'salt', 'pepper', 'red bell pepper', 'yellow bell pepper']</td>\n",
              "    </tr>\n",
              "    <tr>\n",
              "      <th>4</th>\n",
              "      <td>amish  tomato ketchup  for canning</td>\n",
              "      <td>['weeknight', 'time-to-make', 'course', 'main-ingredient', 'cuisine', 'preparation', 'occasion', 'north-american', 'canning', 'condiments-etc', 'vegetables', 'american', 'heirloom-historical', 'holiday-event', 'vegetarian', 'dietary', 'amish-mennonite', 'northeastern-united-states', 'number-of-servings', 'technique', '4-hours-or-less']</td>\n",
              "      <td>['tomato juice', 'apple cider vinegar', 'sugar', 'salt', 'pepper', 'clove oil', 'cinnamon oil', 'dry mustard']</td>\n",
              "    </tr>\n",
              "    <tr>\n",
              "      <th>...</th>\n",
              "      <td>...</td>\n",
              "      <td>...</td>\n",
              "      <td>...</td>\n",
              "    </tr>\n",
              "    <tr>\n",
              "      <th>162141</th>\n",
              "      <td>pollo alla toscana</td>\n",
              "      <td>['60-minutes-or-less', 'time-to-make', 'course', 'main-ingredient', 'cuisine', 'preparation', 'main-dish', 'poultry', 'european', 'italian', 'chicken', 'meat']</td>\n",
              "      <td>['boneless skinless chicken thighs', 'chicken tenderloins', 'salt and pepper', 'extra virgin olive oil', 'garlic cloves', 'white wine vinegar', 'butter', 'shallots', 'fresh rosemary', 'flour', 'dry white wine', 'beef broth']</td>\n",
              "    </tr>\n",
              "    <tr>\n",
              "      <th>162142</th>\n",
              "      <td>pollo asada burrito</td>\n",
              "      <td>['60-minutes-or-less', 'time-to-make', 'course', 'main-ingredient', 'cuisine', 'preparation', 'north-american', 'main-dish', 'poultry', 'mexican', 'easy', 'chicken', 'dietary', 'meat']</td>\n",
              "      <td>['chicken breasts', 'avocados', 'tomatoes', 'onions', 'lemon juice', 'sea salt', 'garlic clove', 'cilantro', 'sour cream', 'cheddar cheese', 'flour tortillas']</td>\n",
              "    </tr>\n",
              "    <tr>\n",
              "      <th>162143</th>\n",
              "      <td>pollo asado</td>\n",
              "      <td>['60-minutes-or-less', 'time-to-make', 'preparation']</td>\n",
              "      <td>['olive oil', 'ground cumin', 'salt', 'dried oregano', 'garlic', 'lime juice', 'orange juice', 'achiote powder', 'whole boneless chicken breasts']</td>\n",
              "    </tr>\n",
              "    <tr>\n",
              "      <th>162144</th>\n",
              "      <td>pollo asado con llajua  cumin grilled chicken with spicy salsa</td>\n",
              "      <td>['time-to-make', 'course', 'main-ingredient', 'cuisine', 'preparation', 'very-low-carbs', 'main-dish', 'poultry', 'chicken', 'south-american', 'dietary', 'low-carb', 'low-in-something', 'meat', 'chicken-breasts', 'grilling', 'technique', '4-hours-or-less']</td>\n",
              "      <td>['hot pepper', 'tomatoes', 'garlic clove', 'olive oil', 'red wine vinegar', 'coarse salt', 'pepper', 'fresh cilantro', 'chicken breast halves', 'black pepper', 'ground cumin']</td>\n",
              "    </tr>\n",
              "    <tr>\n",
              "      <th>231636</th>\n",
              "      <td>cookies by design   sugar shortbread cookies</td>\n",
              "      <td>['30-minutes-or-less', 'time-to-make', 'course', 'preparation', 'occasion', 'for-large-groups', 'rolled-cookies', 'desserts', 'kid-friendly', 'cookies-and-brownies', 'dietary', 'comfort-food', 'taste-mood', 'sweet', 'number-of-servings']</td>\n",
              "      <td>['granulated sugar', 'shortening', 'eggs', 'flour', 'cream of tartar', 'baking soda', 'vanilla extract']</td>\n",
              "    </tr>\n",
              "  </tbody>\n",
              "</table>\n",
              "<p>162146 rows × 3 columns</p>\n",
              "</div>"
            ],
            "text/plain": [
              "                                                                  name  \\\n",
              "0                           arriba   baked winter squash mexican style   \n",
              "1                                     a bit different  breakfast pizza   \n",
              "2                                            all in the kitchen  chili   \n",
              "3                                                   alouette  potatoes   \n",
              "4                                   amish  tomato ketchup  for canning   \n",
              "...                                                                ...   \n",
              "162141                                              pollo alla toscana   \n",
              "162142                                             pollo asada burrito   \n",
              "162143                                                     pollo asado   \n",
              "162144  pollo asado con llajua  cumin grilled chicken with spicy salsa   \n",
              "231636                    cookies by design   sugar shortbread cookies   \n",
              "\n",
              "                                                                                                                                                                                                                                                                                                                                                                                                                                          tags  \\\n",
              "0                                                                                                                                                                   ['60-minutes-or-less', 'time-to-make', 'course', 'main-ingredient', 'cuisine', 'preparation', 'occasion', 'north-american', 'side-dishes', 'vegetables', 'mexican', 'easy', 'fall', 'holiday-event', 'vegetarian', 'winter', 'dietary', 'christmas', 'seasonal', 'squash']   \n",
              "1                                                                                                                                                             ['30-minutes-or-less', 'time-to-make', 'course', 'main-ingredient', 'cuisine', 'preparation', 'occasion', 'north-american', 'breakfast', 'main-dish', 'pork', 'american', 'oven', 'easy', 'kid-friendly', 'pizza', 'dietary', 'northeastern-united-states', 'meat', 'equipment']   \n",
              "2                                                                                                                                                                                                                                                                                                          ['time-to-make', 'course', 'preparation', 'main-dish', 'chili', 'crock-pot-slow-cooker', 'dietary', 'equipment', '4-hours-or-less']   \n",
              "3       ['60-minutes-or-less', 'time-to-make', 'course', 'main-ingredient', 'preparation', 'occasion', 'side-dishes', 'eggs-dairy', 'potatoes', 'vegetables', 'oven', 'easy', 'dinner-party', 'holiday-event', 'easter', 'cheese', 'stove-top', 'dietary', 'christmas', 'new-years', 'thanksgiving', 'independence-day', 'st-patricks-day', 'valentines-day', 'inexpensive', 'brunch', 'superbowl', 'equipment', 'presentation', 'served-hot']   \n",
              "4                                                                                            ['weeknight', 'time-to-make', 'course', 'main-ingredient', 'cuisine', 'preparation', 'occasion', 'north-american', 'canning', 'condiments-etc', 'vegetables', 'american', 'heirloom-historical', 'holiday-event', 'vegetarian', 'dietary', 'amish-mennonite', 'northeastern-united-states', 'number-of-servings', 'technique', '4-hours-or-less']   \n",
              "...                                                                                                                                                                                                                                                                                                                                                                                                                                        ...   \n",
              "162141                                                                                                                                                                                                                                                                         ['60-minutes-or-less', 'time-to-make', 'course', 'main-ingredient', 'cuisine', 'preparation', 'main-dish', 'poultry', 'european', 'italian', 'chicken', 'meat']   \n",
              "162142                                                                                                                                                                                                                                                ['60-minutes-or-less', 'time-to-make', 'course', 'main-ingredient', 'cuisine', 'preparation', 'north-american', 'main-dish', 'poultry', 'mexican', 'easy', 'chicken', 'dietary', 'meat']   \n",
              "162143                                                                                                                                                                                                                                                                                                                                                                                   ['60-minutes-or-less', 'time-to-make', 'preparation']   \n",
              "162144                                                                                                                                                                        ['time-to-make', 'course', 'main-ingredient', 'cuisine', 'preparation', 'very-low-carbs', 'main-dish', 'poultry', 'chicken', 'south-american', 'dietary', 'low-carb', 'low-in-something', 'meat', 'chicken-breasts', 'grilling', 'technique', '4-hours-or-less']   \n",
              "231636                                                                                                                                                                                           ['30-minutes-or-less', 'time-to-make', 'course', 'preparation', 'occasion', 'for-large-groups', 'rolled-cookies', 'desserts', 'kid-friendly', 'cookies-and-brownies', 'dietary', 'comfort-food', 'taste-mood', 'sweet', 'number-of-servings']   \n",
              "\n",
              "                                                                                                                                                                                                                             ingredients  \n",
              "0                                                                                                                                          ['winter squash', 'mexican seasoning', 'mixed spice', 'honey', 'butter', 'olive oil', 'salt']  \n",
              "1                                                                                                                                                 ['prepared pizza crust', 'sausage patty', 'eggs', 'milk', 'salt and pepper', 'cheese']  \n",
              "2                                      ['ground beef', 'yellow onions', 'diced tomatoes', 'tomato paste', 'tomato soup', 'rotel tomatoes', 'kidney beans', 'water', 'chili powder', 'ground cumin', 'salt', 'lettuce', 'cheddar cheese']  \n",
              "3                                             ['spreadable cheese with garlic and herbs', 'new potatoes', 'shallots', 'parsley', 'tarragon', 'olive oil', 'red wine vinegar', 'salt', 'pepper', 'red bell pepper', 'yellow bell pepper']  \n",
              "4                                                                                                                         ['tomato juice', 'apple cider vinegar', 'sugar', 'salt', 'pepper', 'clove oil', 'cinnamon oil', 'dry mustard']  \n",
              "...                                                                                                                                                                                                                                  ...  \n",
              "162141  ['boneless skinless chicken thighs', 'chicken tenderloins', 'salt and pepper', 'extra virgin olive oil', 'garlic cloves', 'white wine vinegar', 'butter', 'shallots', 'fresh rosemary', 'flour', 'dry white wine', 'beef broth']  \n",
              "162142                                                                   ['chicken breasts', 'avocados', 'tomatoes', 'onions', 'lemon juice', 'sea salt', 'garlic clove', 'cilantro', 'sour cream', 'cheddar cheese', 'flour tortillas']  \n",
              "162143                                                                                ['olive oil', 'ground cumin', 'salt', 'dried oregano', 'garlic', 'lime juice', 'orange juice', 'achiote powder', 'whole boneless chicken breasts']  \n",
              "162144                                                   ['hot pepper', 'tomatoes', 'garlic clove', 'olive oil', 'red wine vinegar', 'coarse salt', 'pepper', 'fresh cilantro', 'chicken breast halves', 'black pepper', 'ground cumin']  \n",
              "231636                                                                                                                          ['granulated sugar', 'shortening', 'eggs', 'flour', 'cream of tartar', 'baking soda', 'vanilla extract']  \n",
              "\n",
              "[162146 rows x 3 columns]"
            ]
          },
          "metadata": {},
          "execution_count": 56
        }
      ]
    },
    {
      "cell_type": "code",
      "source": [
        "df_recipes.to_csv(\"dataset/reduced_recipe.csv\")"
      ],
      "metadata": {
        "id": "YI5rN3f5ZfeS"
      },
      "execution_count": null,
      "outputs": []
    },
    {
      "cell_type": "code",
      "source": [
        ""
      ],
      "metadata": {
        "id": "zhrcsuwtdY_-"
      },
      "execution_count": null,
      "outputs": []
    }
  ]
}